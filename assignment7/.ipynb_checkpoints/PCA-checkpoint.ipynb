{
 "cells": [
  {
   "cell_type": "code",
   "execution_count": 1,
   "id": "9fdcd317-a276-49a4-a839-842b9b274eb4",
   "metadata": {},
   "outputs": [],
   "source": [
    "import matplotlib.pyplot as plt\n",
    "import numpy as np\n",
    "from sklearn import datasets"
   ]
  },
  {
   "cell_type": "code",
   "execution_count": 19,
   "id": "6ea23fc1-226e-4f09-9957-96315b53aef6",
   "metadata": {},
   "outputs": [],
   "source": [
    "def get_data():\n",
    "    digits = datasets.load_digits()\n",
    "    X = digits.images\n",
    "    Y = digits.target\n",
    "    X_0 = X[(Y == 0)]\n",
    "    Y_0 = [0 for i in range(X_0.shape[0])]\n",
    "    X_1 = X[(Y == 1)]\n",
    "    Y_1 = [1 for i in range(X_1.shape[0])]\n",
    "\n",
    "    X_new = np.concatenate((X_0, X_1), axis=0).reshape((360, 64))\n",
    "    Y_new = np.concatenate((Y_0, Y_1), axis=0)\n",
    "    return X_new, Y_new"
   ]
  },
  {
   "cell_type": "code",
   "execution_count": 26,
   "id": "d96cca44-07a5-423e-8225-2c80412c1a94",
   "metadata": {},
   "outputs": [],
   "source": [
    "def zero_mean(X):      \n",
    "    mean_value=np.mean(X,axis=0)\n",
    "    new_X=X-mean_value\n",
    "    return new_X, mean_value"
   ]
  },
  {
   "cell_type": "code",
   "execution_count": 47,
   "id": "1cfdd7c0-4d4e-47cc-bbf0-4eff93208ca0",
   "metadata": {},
   "outputs": [],
   "source": [
    "def calculate_PCs():\n",
    "    X,Y = get_data()\n",
    "    new_X, mean_value = zero_mean(X)\n",
    "    cov_matrix=np.cov(new_X,rowvar=0)\n",
    "    eig_values,eig_vectors=np.linalg.eig(np.mat(cov_matrix))\n",
    "    eig_index=np.argsort(eig_values)\n",
    "    eig_2_index=eig_index[-1:-3:-1]\n",
    "    eig_2_vectors=eig_vectors[:,eig_2_index]\n",
    "    low_X=new_X*eig_2_vectors\n",
    "#     re_X=(low_X*eig_2_vectors.T)+mean_value\n",
    "    low_X_arr = low_X.A\n",
    "    PC1 = low_X_arr[:,0]\n",
    "    PC2 = low_X_arr[:,1]\n",
    "    return PC1, PC2, Y"
   ]
  },
  {
   "cell_type": "code",
   "execution_count": 48,
   "id": "16044a69-03a1-4639-ab66-4329fc4ce20b",
   "metadata": {},
   "outputs": [],
   "source": [
    "def draw_graph():\n",
    "    PC1, PC2, Y = calculate_PCs()\n",
    "    X_0_PC1 = PC1[(Y == 0)]\n",
    "    X_0_PC2 = PC2[(Y == 0)]\n",
    "    plt.scatter(X_0_PC1, X_0_PC2, marker='^', c=\"r\")\n",
    "\n",
    "    X_1_PC1 = PC1[(Y == 1)]\n",
    "    X_1_PC2 = PC2[(Y == 1)]\n",
    "    plt.scatter(X_1_PC1, X_1_PC2, marker='o', c=\"b\")\n",
    "\n",
    "    plt.show()"
   ]
  },
  {
   "cell_type": "code",
   "execution_count": 50,
   "id": "71c025a4-577a-4b12-a437-ccd354430866",
   "metadata": {},
   "outputs": [
    {
     "data": {
      "image/png": "[encoded data removed]",
      "text/plain": [
       "<Figure size 432x288 with 1 Axes>"
      ]
     },
     "metadata": {
      "needs_background": "light"
     },
     "output_type": "display_data"
    }
   ],
   "source": [
    "draw_graph()"
   ]
  },
  {
   "cell_type": "code",
   "execution_count": null,
   "id": "286e34b9-9c6d-49f4-9ab5-58b58761d1a1",
   "metadata": {},
   "outputs": [],
   "source": []
  }
 ],
 "metadata": {
  "kernelspec": {
   "display_name": "Python 3",
   "language": "python",
   "name": "python3"
  },
  "language_info": {
   "codemirror_mode": {
    "name": "ipython",
    "version": 3
   },
   "file_extension": ".py",
   "mimetype": "text/x-python",
   "name": "python",
   "nbconvert_exporter": "python",
   "pygments_lexer": "ipython3",
   "version": "3.8.8"
  }
 },
 "nbformat": 4,
 "nbformat_minor": 5
}
