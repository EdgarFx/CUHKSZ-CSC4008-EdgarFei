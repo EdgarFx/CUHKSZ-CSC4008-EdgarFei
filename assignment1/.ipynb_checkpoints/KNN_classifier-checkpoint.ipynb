{
 "cells": [
  {
   "cell_type": "code",
   "execution_count": 90,
   "id": "6615b6ee-c24e-4750-8f0d-e5c287c4dcff",
   "metadata": {},
   "outputs": [],
   "source": [
    "import scipy.io\n",
    "import numpy as np\n",
    "import matplotlib.pyplot as plt"
   ]
  },
  {
   "cell_type": "code",
   "execution_count": 91,
   "id": "ef1dd6ea-26aa-4604-8272-0c18b9af8283",
   "metadata": {},
   "outputs": [],
   "source": [
    "# read data\n",
    "trainX = scipy.io.loadmat('trainX.mat')['trainX']\n",
    "trainY = scipy.io.loadmat('trainY.mat')['trainY'][0]\n",
    "trainX = np.array(trainX)\n",
    "trainY = np.array(trainY)\n",
    "testX = scipy.io.loadmat('testX.mat')['testX']\n",
    "testY = scipy.io.loadmat('testY.mat')['testY'][0]\n",
    "testX = np.array(testX)\n",
    "testY = np.array(testY)"
   ]
  },
  {
   "cell_type": "code",
   "execution_count": 92,
   "id": "c068d29e-65c9-4c3e-835f-6bf3f7367959",
   "metadata": {},
   "outputs": [
    {
     "name": "stdout",
     "output_type": "stream",
     "text": [
      "[[ 47.21736467  64.49274582  49.81218725 ... 124.89080757 128.27735174\n",
      "  123.0369119 ]\n",
      " [ 46.79697448  65.16616279  57.5929119  ... 124.23389423 128.39590085\n",
      "  121.82429057]\n",
      " [ 48.73784369  69.21684009  54.82993412 ... 123.45257366 128.11228287\n",
      "  127.79180646]\n",
      " ...\n",
      " [ 45.35230756  36.05095917  37.49285126 ...  41.45113635  93.42253435\n",
      "   43.32082665]\n",
      " [ 46.44171792  35.01103491  32.88969332 ...  40.69426441  92.45103508\n",
      "   41.2476989 ]\n",
      " [ 46.14667201  34.46954793  29.5037598  ...  39.17543083  92.17446053\n",
      "   39.46576774]]\n"
     ]
    }
   ],
   "source": [
    "print(trainX)"
   ]
  },
  {
   "cell_type": "code",
   "execution_count": 93,
   "id": "568045fd-cbd9-4e57-bca4-06603cd79a02",
   "metadata": {},
   "outputs": [
    {
     "name": "stdout",
     "output_type": "stream",
     "text": [
      "[ 1  1  1  1  1  1  1  1  2  2  2  2  2  2  2  2  3  3  3  3  3  3  3  3\n",
      "  4  4  4  4  4  4  4  4  5  5  5  5  5  5  5  5  6  6  6  6  6  6  6  6\n",
      "  7  7  7  7  7  7  7  7  8  8  8  8  8  8  8  8  9  9  9  9  9  9  9  9\n",
      " 10 10 10 10 10 10 10 10 11 11 11 11 11 11 11 11 12 12 12 12 12 12 12 12\n",
      " 13 13 13 13 13 13 13 13 14 14 14 14 14 14 14 14 15 15 15 15 15 15 15 15\n",
      " 16 16 16 16 16 16 16 16 17 17 17 17 17 17 17 17 18 18 18 18 18 18 18 18\n",
      " 19 19 19 19 19 19 19 19 20 20 20 20 20 20 20 20 21 21 21 21 21 21 21 21\n",
      " 22 22 22 22 22 22 22 22 23 23 23 23 23 23 23 23 24 24 24 24 24 24 24 24\n",
      " 25 25 25 25 25 25 25 25 26 26 26 26 26 26 26 26 27 27 27 27 27 27 27 27\n",
      " 28 28 28 28 28 28 28 28 29 29 29 29 29 29 29 29 30 30 30 30 30 30 30 30\n",
      " 31 31 31 31 31 31 31 31 32 32 32 32 32 32 32 32 33 33 33 33 33 33 33 33\n",
      " 34 34 34 34 34 34 34 34 35 35 35 35 35 35 35 35 36 36 36 36 36 36 36 36\n",
      " 37 37 37 37 37 37 37 37 38 38 38 38 38 38 38 38 39 39 39 39 39 39 39 39\n",
      " 40 40 40 40 40 40 40 40]\n"
     ]
    }
   ],
   "source": [
    "print(trainY)"
   ]
  },
  {
   "cell_type": "code",
   "execution_count": 103,
   "id": "2fc321dd-c7d2-479f-b8db-e861ad9c5eaa",
   "metadata": {},
   "outputs": [],
   "source": [
    "# KNN classifier\n",
    "class KNN():\n",
    "    def __init__(self):\n",
    "        pass\n",
    "    def train(self,X,Y):\n",
    "        self.trainX=X\n",
    "        self.trainY=Y\n",
    "    def distance(self,v1,v2):\n",
    "        dist = np.sqrt(np.sum(np.square(v1 - v2)))\n",
    "        return dist\n",
    "    def fit(self,X,k=1):\n",
    "        num_test = len(X[0])\n",
    "        num_train = len(self.trainX[0])\n",
    "        dists = np.zeros((num_test, num_train))\n",
    "        for i in range(num_test):\n",
    "            for j in range(num_train):\n",
    "                dist = self.distance(X[:,i],self.trainX[:,j])\n",
    "                dists[i][j]=dist\n",
    "        predY = np.zeros(num_test)\n",
    "        for i in range(num_test):\n",
    "            kMinDist = np.argsort(dists[i])[:k]\n",
    "            y_Kmin = self.trainY[kMinDist]\n",
    "            predY[i] = np.argmax(np.bincount(y_Kmin.tolist()))\n",
    "        return predY"
   ]
  },
  {
   "cell_type": "code",
   "execution_count": 104,
   "id": "191f6576-cf3f-45cd-87ef-4c20326775b5",
   "metadata": {},
   "outputs": [
    {
     "data": {
      "image/png": "[encoded data removed]",
      "text/plain": [
       "<Figure size 432x288 with 1 Axes>"
      ]
     },
     "metadata": {
      "needs_background": "light"
     },
     "output_type": "display_data"
    }
   ],
   "source": [
    "# In order to find the value of parameter k\n",
    "knn0 = KNN()\n",
    "knn0.train(trainX,trainY)\n",
    "ks = list(range(1,10))\n",
    "scores = []\n",
    "for k in ks:\n",
    "    predY0 = knn0.fit(testX,k)\n",
    "    accuracy0 = np.mean(predY0==testY)\n",
    "    scores.append(accuracy0)\n",
    "final_k = scores.index(max(scores))+1\n",
    "plt.plot(ks,scores)\n",
    "plt.ylabel(\"accuracy\")\n",
    "plt.xlabel(\"k value\")\n",
    "plt.show()"
   ]
  },
  {
   "cell_type": "code",
   "execution_count": 106,
   "id": "ef253ed6-2262-46a7-a6c1-f22ab412cc42",
   "metadata": {},
   "outputs": [
    {
     "name": "stdout",
     "output_type": "stream",
     "text": [
      "accuracy：0.962500\n"
     ]
    }
   ],
   "source": [
    "# As the above graph shows, we choose k=1\n",
    "knn = KNN()\n",
    "knn.train(trainX,trainY)\n",
    "predY = knn.fit(testX,final_k)\n",
    "accuracy = np.mean(predY==testY)\n",
    "print('accuracy：%f' % accuracy)"
   ]
  }
 ],
 "metadata": {
  "kernelspec": {
   "display_name": "Python 3",
   "language": "python",
   "name": "python3"
  },
  "language_info": {
   "codemirror_mode": {
    "name": "ipython",
    "version": 3
   },
   "file_extension": ".py",
   "mimetype": "text/x-python",
   "name": "python",
   "nbconvert_exporter": "python",
   "pygments_lexer": "ipython3",
   "version": "3.8.8"
  }
 },
 "nbformat": 4,
 "nbformat_minor": 5
}
