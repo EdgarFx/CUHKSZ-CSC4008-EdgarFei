{
 "cells": [
  {
   "cell_type": "code",
   "execution_count": 142,
   "id": "228da13d-fb2b-4f23-ac26-aff5b02c2d44",
   "metadata": {},
   "outputs": [],
   "source": [
    "import pandas as pd\n",
    "import numpy as np\n",
    "import matplotlib.pyplot as plt"
   ]
  },
  {
   "cell_type": "code",
   "execution_count": 143,
   "id": "f51241a6-0d2d-4ef9-bd27-6957d1859464",
   "metadata": {},
   "outputs": [],
   "source": [
    "df = pd.read_excel('distance_table.xls')"
   ]
  },
  {
   "cell_type": "code",
   "execution_count": 144,
   "id": "6eeb1102-a604-4e4a-be2d-e614a1dd7ab0",
   "metadata": {},
   "outputs": [
    {
     "name": "stdout",
     "output_type": "stream",
     "text": [
      "  Unnamed: 0    SH    BJ    TJ    GZ    WH    CS    CD   SGP   TKY    MB\n",
      "0         SH     0  1068   962  1212   690  1089  1658  3809  1755  5040\n",
      "1         BJ  1068     0   108  1890  1055  1339  1516  4477  2092  4752\n",
      "2         TJ   962   108     0  1820   988  1277  1519  4417  2016  4796\n",
      "3         GZ  1212  1890  1820     0   836   566  1238  2631  2900  4205\n",
      "4         WH   690  1055   988   836     0   293   976  3439  2421  4352\n",
      "5         CS  1089  1339  1277   566   293     0   905  3143  2643  4195\n",
      "6         CD  1658  1516  1519  1238   976   905     0  3264  3341  3394\n",
      "7        SGP  3809  4477  4417  2631  3439  3143  3264     0  5315  3907\n",
      "8        TKY  1755  2092  2016  2900  2421  2643  3341  5315     0  6730\n",
      "9         MB  5040  4752  4796  4205  4352  4195  3394  3907  6730     0\n"
     ]
    }
   ],
   "source": [
    "print(df)"
   ]
  },
  {
   "cell_type": "code",
   "execution_count": 145,
   "id": "ebeab6ed-45a5-411d-965a-31587f731381",
   "metadata": {},
   "outputs": [],
   "source": [
    "D = df.values"
   ]
  },
  {
   "cell_type": "code",
   "execution_count": 146,
   "id": "89041e26-5a3a-4da3-af69-facd14725f76",
   "metadata": {},
   "outputs": [],
   "source": [
    "D = np.delete(D,0,axis=1)"
   ]
  },
  {
   "cell_type": "code",
   "execution_count": 147,
   "id": "7333042c-25fb-46e2-9f02-ab3c997d29fa",
   "metadata": {},
   "outputs": [
    {
     "name": "stdout",
     "output_type": "stream",
     "text": [
      "[[0 1068 962 1212 690 1089 1658 3809 1755 5040]\n",
      " [1068 0 108 1890 1055 1339 1516 4477 2092 4752]\n",
      " [962 108 0 1820 988 1277 1519 4417 2016 4796]\n",
      " [1212 1890 1820 0 836 566 1238 2631 2900 4205]\n",
      " [690 1055 988 836 0 293 976 3439 2421 4352]\n",
      " [1089 1339 1277 566 293 0 905 3143 2643 4195]\n",
      " [1658 1516 1519 1238 976 905 0 3264 3341 3394]\n",
      " [3809 4477 4417 2631 3439 3143 3264 0 5315 3907]\n",
      " [1755 2092 2016 2900 2421 2643 3341 5315 0 6730]\n",
      " [5040 4752 4796 4205 4352 4195 3394 3907 6730 0]]\n"
     ]
    }
   ],
   "source": [
    "print(D)"
   ]
  },
  {
   "cell_type": "code",
   "execution_count": 148,
   "id": "4706d0f7-7ce1-4429-b4c0-d59b2ac0114c",
   "metadata": {},
   "outputs": [],
   "source": [
    "D2 = np.square(D)"
   ]
  },
  {
   "cell_type": "code",
   "execution_count": 149,
   "id": "27577ce4-699c-4d19-a9de-672b03fcf66b",
   "metadata": {},
   "outputs": [
    {
     "name": "stdout",
     "output_type": "stream",
     "text": [
      "[[0 1140624 925444 1468944 476100 1185921 2748964 14508481 3080025\n",
      "  25401600]\n",
      " [1140624 0 11664 3572100 1113025 1792921 2298256 20043529 4376464\n",
      "  22581504]\n",
      " [925444 11664 0 3312400 976144 1630729 2307361 19509889 4064256 23001616]\n",
      " [1468944 3572100 3312400 0 698896 320356 1532644 6922161 8410000\n",
      "  17682025]\n",
      " [476100 1113025 976144 698896 0 85849 952576 11826721 5861241 18939904]\n",
      " [1185921 1792921 1630729 320356 85849 0 819025 9878449 6985449 17598025]\n",
      " [2748964 2298256 2307361 1532644 952576 819025 0 10653696 11162281\n",
      "  11519236]\n",
      " [14508481 20043529 19509889 6922161 11826721 9878449 10653696 0 28249225\n",
      "  15264649]\n",
      " [3080025 4376464 4064256 8410000 5861241 6985449 11162281 28249225 0\n",
      "  45292900]\n",
      " [25401600 22581504 23001616 17682025 18939904 17598025 11519236 15264649\n",
      "  45292900 0]]\n"
     ]
    }
   ],
   "source": [
    "print(D2)"
   ]
  },
  {
   "cell_type": "code",
   "execution_count": 150,
   "id": "09f14fa2-94e7-41ed-9752-66b4e9a74b6e",
   "metadata": {},
   "outputs": [],
   "source": [
    "summation = np.sum(D2,axis=1)/D2.shape[0]\n",
    "Di = np.repeat(summation[:,np.newaxis],D2.shape[0],axis=1)\n",
    "Dj = np.repeat(summation[np.newaxis,:],D2.shape[0],axis=0)\n",
    "Dij = np.sum(D2)/((D2.shape[0])**2)*np.ones([D2.shape[0],D2.shape[0]])\n",
    "B = (Di+Dj-D2-Dij)/2\n",
    "B = B.astype(np.float64)"
   ]
  },
  {
   "cell_type": "code",
   "execution_count": 151,
   "id": "fc922026-cff2-496b-a3f6-3a2feb721f85",
   "metadata": {},
   "outputs": [
    {
     "name": "stdout",
     "output_type": "stream",
     "text": [
      "[[ 1.17177761e+06  9.01164810e+05  9.49225610e+05  8.64767600e+04\n",
      "   4.33445260e+05  4.68481600e+04 -5.49807590e+05 -1.78642804e+06\n",
      "   2.95905201e+06 -4.21175459e+06]\n",
      " [ 9.01164810e+05  1.77117601e+06  1.70581481e+06 -6.65402040e+05\n",
      "   4.14681960e+05  4.30473600e+04 -2.47543900e+04 -4.25425284e+06\n",
      "   2.61053171e+06 -2.50200739e+06]\n",
      " [ 9.49225610e+05  1.70581481e+06  1.65211761e+06 -5.95081240e+05\n",
      "   4.23593260e+05  6.46141600e+04 -8.88360900e+04 -4.04696204e+06\n",
      "   2.70710651e+06 -2.77159259e+06]\n",
      " [ 8.64767600e+04 -6.65402040e+05 -5.95081240e+05  4.70119910e+05\n",
      "  -2.87815900e+04  1.28801810e+05 -2.92476440e+05  1.65590311e+06\n",
      "  -5.67643400e+04 -7.02795940e+05]\n",
      " [ 4.33445260e+05  4.14681960e+05  4.23593260e+05 -2.87815900e+04\n",
      "   1.71212910e+05  9.66018100e+04 -1.51895940e+05 -9.45830390e+05\n",
      "   1.06816166e+06 -1.48118894e+06]\n",
      " [ 4.68481600e+04  4.30473600e+04  6.46141600e+04  1.28801810e+05\n",
      "   9.66018100e+04  1.07839710e+05 -1.16807040e+05 -3.38099000e+03\n",
      "   4.74371060e+05 -8.41936040e+05]\n",
      " [-5.49807590e+05 -2.47543900e+04 -8.88360900e+04 -2.92476440e+05\n",
      "  -1.51895940e+05 -1.16807040e+05  4.77571210e+05 -2.06138740e+05\n",
      "  -1.42917919e+06  2.38232421e+06]\n",
      " [-1.78642804e+06 -4.25425284e+06 -4.04696204e+06  1.65590311e+06\n",
      "  -9.45830390e+05 -3.38099000e+03 -2.06138740e+05  9.76384731e+06\n",
      "  -5.32951314e+06  5.15275576e+06]\n",
      " [ 2.95905201e+06  2.61053171e+06  2.70710651e+06 -5.67643400e+04\n",
      "   1.06816166e+06  4.74371060e+05 -1.42917919e+06 -5.32951314e+06\n",
      "   7.82635141e+06 -1.08301177e+07]\n",
      " [-4.21175459e+06 -2.50200739e+06 -2.77159259e+06 -7.02795940e+05\n",
      "  -1.48118894e+06 -8.41936040e+05  2.38232421e+06  5.15275576e+06\n",
      "  -1.08301177e+07  1.58063132e+07]]\n"
     ]
    }
   ],
   "source": [
    "print(B)"
   ]
  },
  {
   "cell_type": "code",
   "execution_count": 152,
   "id": "6c473006-1f9e-478a-a3d2-538e7be50a21",
   "metadata": {},
   "outputs": [],
   "source": [
    "eigenvalues, eigenvectors = np.linalg.eigh(B)\n",
    "eigen_sort = np.argsort(-eigenvalues)\n",
    "eigenvalues = eigenvalues[eigen_sort]  \n",
    "eigenvectors = eigenvectors[:,eigen_sort]          \n",
    "Bez = np.diag(eigenvalues[0:2])\n",
    "Bvz = eigenvectors[:,0:2]\n",
    "Z = np.dot(np.sqrt(Bez), Bvz.T).T"
   ]
  },
  {
   "cell_type": "code",
   "execution_count": 153,
   "id": "e6071931-391b-48f0-b099-f63e2af5a4e7",
   "metadata": {},
   "outputs": [
    {
     "name": "stdout",
     "output_type": "stream",
     "text": [
      "[[-1003.80078105  -364.15035438]\n",
      " [ -396.8933176  -1293.82802869]\n",
      " [ -480.14625509 -1208.96099995]\n",
      " [ -292.57759984   613.31147073]\n",
      " [ -329.57520643  -228.37434743]\n",
      " [ -215.21283426    48.39726106]\n",
      " [  652.72810951  -207.26010997]\n",
      " [  700.8526398   3047.04469524]\n",
      " [-2536.01376734 -1185.47329475]\n",
      " [ 3900.6390123    779.29370815]]\n"
     ]
    }
   ],
   "source": [
    "rot = [[3**(1/2)/2,1/2],[-1/2,3**(1/2)/2]]\n",
    "rot = np.array(rot)\n",
    "Z = np.dot(Z,rot)\n",
    "print(Z)"
   ]
  },
  {
   "cell_type": "code",
   "execution_count": 154,
   "id": "f37f4738-48aa-4c4e-89f6-0bab24305dc5",
   "metadata": {},
   "outputs": [
    {
     "data": {
      "image/png": "[encoded data removed]",
      "text/plain": [
       "<Figure size 432x288 with 1 Axes>"
      ]
     },
     "metadata": {
      "needs_background": "light"
     },
     "output_type": "display_data"
    }
   ],
   "source": [
    "txt = ['SH','BJ','TJ','GZ','WH','CS','CD','SGP','TKY','MB']\n",
    "fig = plt.figure()\n",
    "ax = fig.add_subplot()\n",
    "ax.scatter(-Z[:,0],-Z[:,1],cmap=plt.cm.hot)\n",
    "ax.set_xlabel(\"$x$\", fontsize=18)\n",
    "ax.set_ylabel(\"$y$\", fontsize=18)\n",
    "plt.title('after MDS')\n",
    "for i in range(len(Z[:,0])):\n",
    "    plt.annotate(txt[i],xy=(-Z[i,0],-Z[i,1]),xytext=(-Z[i,0],-Z[i,1]+0.5))\n",
    "plt.show()"
   ]
  },
  {
   "cell_type": "code",
   "execution_count": null,
   "id": "4bf0b23e-716f-4c32-828b-39baac31417f",
   "metadata": {},
   "outputs": [],
   "source": []
  },
  {
   "cell_type": "code",
   "execution_count": null,
   "id": "65887377-7df1-49d3-adac-f5969259c2cb",
   "metadata": {},
   "outputs": [],
   "source": []
  }
 ],
 "metadata": {
  "kernelspec": {
   "display_name": "Python 3",
   "language": "python",
   "name": "python3"
  },
  "language_info": {
   "codemirror_mode": {
    "name": "ipython",
    "version": 3
   },
   "file_extension": ".py",
   "mimetype": "text/x-python",
   "name": "python",
   "nbconvert_exporter": "python",
   "pygments_lexer": "ipython3",
   "version": "3.8.8"
  }
 },
 "nbformat": 4,
 "nbformat_minor": 5
}
