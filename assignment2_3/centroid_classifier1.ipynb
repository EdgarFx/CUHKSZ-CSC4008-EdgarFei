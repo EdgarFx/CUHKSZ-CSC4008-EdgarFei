{
 "cells": [
  {
   "cell_type": "code",
   "execution_count": 21,
   "id": "d5bf1e50",
   "metadata": {},
   "outputs": [],
   "source": [
    "import scipy.io\r\n",
    "import numpy as np\r\n",
    "import matplotlib.pyplot as plt"
   ]
  },
  {
   "cell_type": "code",
   "execution_count": 22,
   "id": "990d3fc3",
   "metadata": {},
   "outputs": [],
   "source": [
    "# The following variables represents for the ATNA face dataset\r\n",
    "trainX1 = scipy.io.loadmat('ATNT face/trainX.mat')['trainX']\r\n",
    "trainY1 = scipy.io.loadmat('ATNT face/trainY.mat')['trainY'][0]\r\n",
    "trainX1 = np.array(trainX1)\r\n",
    "trainY1 = np.array(trainY1)\r\n",
    "testX1 = scipy.io.loadmat('ATNT face/testX.mat')['testX']\r\n",
    "testY1 = scipy.io.loadmat('ATNT face/testY.mat')['testY'][0]\r\n",
    "testX1 = np.array(testX1)\r\n",
    "testY1 = np.array(testY1)\r\n",
    "\r\n",
    "# The following variables represents for the Binalpha handwritten dataset\r\n",
    "trainX2 = scipy.io.loadmat('Binalpha handwritten/trainX.mat')['trainX']\r\n",
    "trainY2 = scipy.io.loadmat('Binalpha handwritten/trainY.mat')['trainY'][0]\r\n",
    "trainX2 = np.array(trainX2)\r\n",
    "trainY2 = np.array(trainY2)\r\n",
    "testX2 = scipy.io.loadmat('Binalpha handwritten/testX.mat')['testX']\r\n",
    "testY2 = scipy.io.loadmat('Binalpha handwritten/testY.mat')['testY'][0]\r\n",
    "testX2 = np.array(testX2)\r\n",
    "testY2 = np.array(testY2)"
   ]
  },
  {
   "cell_type": "code",
   "execution_count": 23,
   "id": "820d7776",
   "metadata": {
    "tags": []
   },
   "outputs": [],
   "source": [
    "class Centroid():\r\n",
    "    def __init__(self):\r\n",
    "        pass\r\n",
    "    def train(self,X,Y):\r\n",
    "        self.trainX=X\r\n",
    "        self.trainY=Y\r\n",
    "    def distance(self,v1,v2):\r\n",
    "        dist = np.sqrt(np.sum(np.square(v1 - v2)))\r\n",
    "        return dist\r\n",
    "    def fit(self,X):\r\n",
    "        num_test = len(X[0])\r\n",
    "        predY = np.zeros(num_test)\r\n",
    "        temp = self.trainY[0]\r\n",
    "        start = 0\r\n",
    "        end = -1\r\n",
    "        class_num = 0\r\n",
    "        all_centroid = []\r\n",
    "        for i in range(len(self.trainY)):\r\n",
    "            if i==len(self.trainY)-1:\r\n",
    "                end+=1\r\n",
    "                m = np.array(self.trainX[:,start:end+1])\r\n",
    "                centroid = np.mean(m,1)\r\n",
    "                all_centroid.append(centroid)\r\n",
    "                class_num+=1\r\n",
    "            elif self.trainY[i] == temp:\r\n",
    "                end+=1\r\n",
    "            else:\r\n",
    "                end+=1\r\n",
    "                m = np.array(self.trainX[:,start:end])\r\n",
    "                centroid = np.mean(m,1)\r\n",
    "                all_centroid.append(centroid)\r\n",
    "                start = end\r\n",
    "                class_num+=1\r\n",
    "                temp = self.trainY[start]\r\n",
    "        dists = np.zeros((num_test,class_num))\r\n",
    "        for i in range(num_test):\r\n",
    "            trace = 0\r\n",
    "            for c in all_centroid:\r\n",
    "                dist = self.distance(X[:,i],c)\r\n",
    "                dists[i][trace] = dist\r\n",
    "                trace+=1\r\n",
    "        for i in range(num_test):\r\n",
    "            Min = np.argsort(dists[i])[:1]\r\n",
    "            predY[i] = Min+1\r\n",
    "        return predY"
   ]
  },
  {
   "cell_type": "code",
   "execution_count": 24,
   "id": "709178b9",
   "metadata": {},
   "outputs": [
    {
     "name": "stdout",
     "output_type": "stream",
     "text": [
      "accuracy: 0.912500\n"
     ]
    }
   ],
   "source": [
    "cc1 = Centroid()\r\n",
    "cc1.train(trainX1,trainY1)\r\n",
    "predY1 = cc1.fit(testX1)\r\n",
    "accuracy = np.mean(predY1==testY1)\r\n",
    "print('accuracy: %f' % accuracy)"
   ]
  },
  {
   "cell_type": "code",
   "execution_count": 25,
   "id": "97d462ca",
   "metadata": {},
   "outputs": [
    {
     "name": "stdout",
     "output_type": "stream",
     "text": [
      "accuracy: 0.696581\n"
     ]
    }
   ],
   "source": [
    "cc2 = Centroid()\r\n",
    "cc2.train(trainX2,trainY2)\r\n",
    "predY2 = cc2.fit(testX2)\r\n",
    "accuracy = np.mean(predY2==testY2)\r\n",
    "print('accuracy: %f' % accuracy)"
   ]
  },
  {
   "cell_type": "code",
   "execution_count": 26,
   "id": "8df0c714",
   "metadata": {},
   "outputs": [
    {
     "name": "stdout",
     "output_type": "stream",
     "text": [
      "[ 1.  1.  2.  2.  3.  3.  4.  4.  5. 18.  6.  6.  7.  7.  8.  8.  9.  9.\n",
      " 10.  8. 11. 11. 12. 12. 13. 13. 14. 14. 15. 15. 16. 16. 17. 17. 18. 18.\n",
      " 11. 19. 20. 20. 21. 21. 22. 22. 23. 38. 24. 24. 25. 25. 26. 26. 27. 27.\n",
      " 28. 28. 29. 29. 30. 30. 21. 31. 32. 32. 33. 33. 34. 34. 35. 40. 36. 36.\n",
      " 37. 37. 38. 38. 39. 39. 40.  5.]\n"
     ]
    }
   ],
   "source": [
    "print(predY1)"
   ]
  },
  {
   "cell_type": "code",
   "execution_count": 27,
   "id": "c9f4edf8",
   "metadata": {},
   "outputs": [
    {
     "name": "stdout",
     "output_type": "stream",
     "text": [
      "[ 7. 16.  1.  1. 16. 16.  1.  2.  1. 10.  2.  2. 18.  2.  2.  2.  2.  2.\n",
      " 15.  3.  3.  3.  3.  3.  3.  3.  3.  4. 15.  4.  4.  4.  4.  4. 17.  4.\n",
      "  5.  5.  5.  5.  5.  3.  5. 10.  5.  6.  6. 10. 11. 11.  6. 16. 16.  6.\n",
      " 17.  7.  2. 14.  8. 17.  7.  6.  7.  1.  8. 21.  8. 11.  8. 13.  8. 11.\n",
      "  9.  6. 24.  9.  9.  9.  9. 25. 10. 10. 10. 10. 10. 10. 10. 10. 10.  9.\n",
      " 11. 11. 11. 11. 11. 11. 14. 14. 11. 12. 12. 12. 12. 12. 23. 12. 12. 23.\n",
      " 13. 13.  1. 13. 13.  8. 13. 13.  2. 14. 14.  8. 23. 25. 14. 14. 14. 14.\n",
      " 17. 15. 15. 15.  7. 15. 15. 15. 15. 16. 16. 16. 16. 16. 16. 16. 16. 16.\n",
      " 15. 17. 17.  8.  4. 17. 17. 17. 17. 18. 18. 11. 24.  1. 18. 12. 14. 18.\n",
      " 19. 19. 19. 10. 19. 19. 19. 19.  2. 20. 20.  6. 20. 20. 20. 20. 24. 20.\n",
      " 21. 21. 11. 21. 21. 16.  4. 12. 21. 22. 21. 22. 22. 22. 22. 23. 22. 22.\n",
      " 23. 14. 23. 23. 23. 23. 23. 23. 22. 24. 24. 24. 24. 11. 24. 24. 24. 22.\n",
      " 22. 25. 25. 25. 25. 25. 25. 25. 13. 26. 26. 12. 26. 26.  4. 26. 26. 26.]\n"
     ]
    }
   ],
   "source": [
    "print(predY2)"
   ]
  }
 ],
 "metadata": {
  "interpreter": {
   "hash": "f9b127b948fd468243cafb9aa3ad90dda50e6de6bb7486d30d55c09c195a808d"
  },
  "kernelspec": {
   "display_name": "Python 3",
   "language": "python",
   "name": "python3"
  },
  "language_info": {
   "codemirror_mode": {
    "name": "ipython",
    "version": 3
   },
   "file_extension": ".py",
   "mimetype": "text/x-python",
   "name": "python",
   "nbconvert_exporter": "python",
   "pygments_lexer": "ipython3",
   "version": "3.8.8"
  }
 },
 "nbformat": 4,
 "nbformat_minor": 5
}
