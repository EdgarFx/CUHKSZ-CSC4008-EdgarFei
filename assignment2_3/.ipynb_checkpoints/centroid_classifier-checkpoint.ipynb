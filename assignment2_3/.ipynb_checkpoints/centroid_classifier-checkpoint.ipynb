{
 "cells": [
  {
   "cell_type": "code",
   "execution_count": 152,
   "id": "30fff65c-b440-4a38-bf3b-5ca305b82ff7",
   "metadata": {},
   "outputs": [],
   "source": [
    "import scipy.io\n",
    "import numpy as np\n",
    "import matplotlib.pyplot as plt"
   ]
  },
  {
   "cell_type": "code",
   "execution_count": 153,
   "id": "5b897b7c-935e-49d0-9b0c-15e68a3b8b11",
   "metadata": {},
   "outputs": [],
   "source": [
    "# read data\n",
    "trainX = scipy.io.loadmat('trainX.mat')['trainX']\n",
    "trainY = scipy.io.loadmat('trainY.mat')['trainY'][0]\n",
    "trainX = np.array(trainX)\n",
    "trainY = np.array(trainY)\n",
    "testX = scipy.io.loadmat('testX.mat')['testX']\n",
    "testY = scipy.io.loadmat('testY.mat')['testY'][0]\n",
    "testX = np.array(testX)\n",
    "testY = np.array(testY)"
   ]
  },
  {
   "cell_type": "code",
   "execution_count": 196,
   "id": "5c281562-5e45-4182-9827-a873a7e40e4f",
   "metadata": {
    "tags": []
   },
   "outputs": [],
   "source": [
    "class Centroid():\n",
    "    def __init__(self):\n",
    "        pass\n",
    "    def train(self,X,Y):\n",
    "        self.trainX=X\n",
    "        self.trainY=Y\n",
    "    def distance(self,v1,v2):\n",
    "        dist = np.sqrt(np.sum(np.square(v1 - v2)))\n",
    "        return dist\n",
    "    def fit(self,X):\n",
    "        num_test = len(X[0])\n",
    "        predY = np.zeros(num_test)\n",
    "        temp = self.trainY[0]\n",
    "        start = 0\n",
    "        end = -1\n",
    "        class_num = 0\n",
    "        all_centroid = []\n",
    "        for i in range(len(self.trainY)):\n",
    "            if i==len(self.trainY)-1:\n",
    "                end+=1\n",
    "                m = np.array(self.trainX[:,start:end+1])\n",
    "                centroid = np.mean(m,1)\n",
    "                all_centroid.append(centroid)\n",
    "                class_num+=1\n",
    "            elif self.trainY[i] == temp:\n",
    "                end+=1\n",
    "            else:\n",
    "                end+=1\n",
    "                m = np.array(self.trainX[:,start:end])\n",
    "                centroid = np.mean(m,1)\n",
    "                all_centroid.append(centroid)\n",
    "                start = end\n",
    "                class_num+=1\n",
    "                temp = self.trainY[start]\n",
    "        dists = np.zeros((num_test,class_num))\n",
    "        for i in range(num_test):\n",
    "            trace = 0\n",
    "            for c in all_centroid:\n",
    "                dist = self.distance(X[:,i],c)\n",
    "                dists[i][trace] = dist\n",
    "                trace+=1\n",
    "        for i in range(num_test):\n",
    "            Min = np.argsort(dists[i])[:1]\n",
    "            predY[i] = Min+1\n",
    "        return predY"
   ]
  },
  {
   "cell_type": "code",
   "execution_count": 197,
   "id": "1f03fc80-9285-4bac-a968-3d1e7b20c0b5",
   "metadata": {},
   "outputs": [
    {
     "name": "stdout",
     "output_type": "stream",
     "text": [
      "accuracy: 0.912500\n"
     ]
    }
   ],
   "source": [
    "cc = Centroid()\n",
    "cc.train(trainX,trainY)\n",
    "predY = cc.fit(testX)\n",
    "accuracy = np.mean(predY==testY)\n",
    "print('accuracy: %f' % accuracy)"
   ]
  },
  {
   "cell_type": "code",
   "execution_count": 198,
   "id": "7554bc34-b366-4273-b8c4-3fb3431e264c",
   "metadata": {},
   "outputs": [
    {
     "name": "stdout",
     "output_type": "stream",
     "text": [
      "[ 1.  1.  2.  2.  3.  3.  4.  4.  5. 18.  6.  6.  7.  7.  8.  8.  9.  9.\n",
      " 10.  8. 11. 11. 12. 12. 13. 13. 14. 14. 15. 15. 16. 16. 17. 17. 18. 18.\n",
      " 11. 19. 20. 20. 21. 21. 22. 22. 23. 38. 24. 24. 25. 25. 26. 26. 27. 27.\n",
      " 28. 28. 29. 29. 30. 30. 21. 31. 32. 32. 33. 33. 34. 34. 35. 40. 36. 36.\n",
      " 37. 37. 38. 38. 39. 39. 40.  5.]\n"
     ]
    }
   ],
   "source": [
    "print(predY)"
   ]
  },
  {
   "cell_type": "code",
   "execution_count": 199,
   "id": "57b2220e-942b-4c52-bd72-9b5a6f5f9522",
   "metadata": {},
   "outputs": [
    {
     "name": "stdout",
     "output_type": "stream",
     "text": [
      "[ 1  1  2  2  3  3  4  4  5  5  6  6  7  7  8  8  9  9 10 10 11 11 12 12\n",
      " 13 13 14 14 15 15 16 16 17 17 18 18 19 19 20 20 21 21 22 22 23 23 24 24\n",
      " 25 25 26 26 27 27 28 28 29 29 30 30 31 31 32 32 33 33 34 34 35 35 36 36\n",
      " 37 37 38 38 39 39 40 40]\n"
     ]
    }
   ],
   "source": [
    "print(testY)"
   ]
  },
  {
   "cell_type": "code",
   "execution_count": null,
   "id": "5c4967a5-cb73-4b01-8049-a07502029f00",
   "metadata": {},
   "outputs": [],
   "source": []
  }
 ],
 "metadata": {
  "kernelspec": {
   "display_name": "Python 3",
   "language": "python",
   "name": "python3"
  },
  "language_info": {
   "codemirror_mode": {
    "name": "ipython",
    "version": 3
   },
   "file_extension": ".py",
   "mimetype": "text/x-python",
   "name": "python",
   "nbconvert_exporter": "python",
   "pygments_lexer": "ipython3",
   "version": "3.8.8"
  }
 },
 "nbformat": 4,
 "nbformat_minor": 5
}
