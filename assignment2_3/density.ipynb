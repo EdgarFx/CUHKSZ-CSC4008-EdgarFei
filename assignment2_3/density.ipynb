{
 "cells": [
  {
   "cell_type": "code",
   "execution_count": 107,
   "id": "7d673b33-3dc2-466c-a98a-68dae54d3595",
   "metadata": {},
   "outputs": [],
   "source": [
    "import scipy.io\n",
    "import numpy as np\n",
    "import matplotlib.pyplot as plt"
   ]
  },
  {
   "cell_type": "code",
   "execution_count": 108,
   "id": "7da17828-5c04-449f-b853-d84999564aa4",
   "metadata": {},
   "outputs": [],
   "source": [
    "# read data\n",
    "trainX = scipy.io.loadmat('trainX.mat')['trainX']\n",
    "trainY = scipy.io.loadmat('trainY.mat')['trainY'][0]\n",
    "trainX = np.array(trainX)\n",
    "trainY = np.array(trainY)\n",
    "testX = scipy.io.loadmat('testX.mat')['testX']\n",
    "testY = scipy.io.loadmat('testY.mat')['testY'][0]\n",
    "testX = np.array(testX)\n",
    "testY = np.array(testY)"
   ]
  },
  {
   "cell_type": "code",
   "execution_count": 109,
   "id": "6978aa30-1187-4de0-8480-60c36fab93ff",
   "metadata": {},
   "outputs": [],
   "source": [
    "class DB_classifier():\n",
    "    def __init__(self):\n",
    "        self.no_label = 0\n",
    "    def train(self,X,Y):\n",
    "        self.trainX=X\n",
    "        self.trainY=Y\n",
    "    def distance(self,v1,v2):\n",
    "        dist = np.sqrt(np.sum(np.square(v1 - v2)))\n",
    "        return dist\n",
    "    def majority_voting(self,X):\n",
    "        label = np.argmax(np.bincount(X))\n",
    "        return label\n",
    "    def fit(self,X,r):\n",
    "        num_test = len(X[0])\n",
    "        num_train = len(self.trainX[0])\n",
    "        dists = np.zeros((num_test, num_train))\n",
    "        for i in range(num_test):\n",
    "            for j in range(num_train):\n",
    "                dist = self.distance(X[:,i],self.trainX[:,j])\n",
    "                dists[i][j]=dist\n",
    "        predY = np.zeros(num_test)\n",
    "        for i in range(num_test):\n",
    "            inside_index = []\n",
    "            for j in range(num_train):\n",
    "                if dists[i][j] < r:\n",
    "                    inside_index.append(j)\n",
    "            y_inR = self.trainY[inside_index]\n",
    "            try:\n",
    "                predY[i] = self.majority_voting(y_inR.tolist())\n",
    "            except:\n",
    "                self.no_label+=1\n",
    "                continue\n",
    "        return predY"
   ]
  },
  {
   "cell_type": "code",
   "execution_count": 156,
   "id": "630805f5-d656-4815-9217-f3efcf28ce7a",
   "metadata": {},
   "outputs": [
    {
     "name": "stdout",
     "output_type": "stream",
     "text": [
      "accuracy: 0.906667\n"
     ]
    }
   ],
   "source": [
    "db = DB_classifier()\n",
    "db.train(trainX,trainY)\n",
    "predY = db.fit(testX,800)\n",
    "if db.no_label!=0:\n",
    "    no_index = []\n",
    "    length = len(predY)-db.no_label\n",
    "    new_predY = np.zeros(length)\n",
    "    new_testY = np.zeros(length)\n",
    "    trace1=0\n",
    "    trace2=0\n",
    "    for i in range(len(predY)):\n",
    "        if predY[i]==0:\n",
    "            no_index.append(i)\n",
    "        else:\n",
    "            new_predY[trace1]=predY[i]\n",
    "            trace1+=1\n",
    "    for i in range(len(testY)):\n",
    "        if i not in no_index:\n",
    "            new_testY[trace2]=testY[i]\n",
    "            trace2+=1\n",
    "    accuracy = np.mean(new_predY==new_testY)\n",
    "else:\n",
    "    accuracy = np.mean(predY==testY)\n",
    "print('accuracy: %f' % accuracy)"
   ]
  },
  {
   "cell_type": "code",
   "execution_count": 157,
   "id": "086a75b6-3c38-4c50-8a1e-2ae6b98cd750",
   "metadata": {},
   "outputs": [
    {
     "name": "stdout",
     "output_type": "stream",
     "text": [
      "5\n"
     ]
    }
   ],
   "source": [
    "print(db.no_label)"
   ]
  },
  {
   "cell_type": "code",
   "execution_count": 158,
   "id": "c9ed6808-1a9e-47ed-bb93-7275134b0ede",
   "metadata": {},
   "outputs": [
    {
     "name": "stdout",
     "output_type": "stream",
     "text": [
      "[ 2.  2.  3.  3.  4.  4.  5. 18.  6.  6.  7.  7.  8.  8.  9.  9. 11. 11.\n",
      " 12. 12. 13. 13. 14. 14. 15. 15. 16. 16. 17. 17. 18. 18. 19. 20. 20. 21.\n",
      " 21. 22. 22. 23. 38. 24. 24. 25. 25. 26. 26. 27. 27. 28. 28. 29. 29. 21.\n",
      " 30. 21. 31. 32. 32. 33. 33. 34. 34. 35. 35. 36. 36. 28. 28. 38. 38. 39.\n",
      " 39. 40.  5.]\n"
     ]
    }
   ],
   "source": [
    "print(new_predY)"
   ]
  },
  {
   "cell_type": "code",
   "execution_count": 159,
   "id": "a547ff79-8fbc-4510-a18f-76750181c096",
   "metadata": {},
   "outputs": [
    {
     "name": "stdout",
     "output_type": "stream",
     "text": [
      "[ 2.  2.  3.  3.  4.  4.  5.  5.  6.  6.  7.  7.  8.  8.  9.  9. 11. 11.\n",
      " 12. 12. 13. 13. 14. 14. 15. 15. 16. 16. 17. 17. 18. 18. 19. 20. 20. 21.\n",
      " 21. 22. 22. 23. 23. 24. 24. 25. 25. 26. 26. 27. 27. 28. 28. 29. 29. 30.\n",
      " 30. 31. 31. 32. 32. 33. 33. 34. 34. 35. 35. 36. 36. 37. 37. 38. 38. 39.\n",
      " 39. 40. 40.]\n"
     ]
    }
   ],
   "source": [
    "print(new_testY)"
   ]
  },
  {
   "cell_type": "code",
   "execution_count": 160,
   "id": "192ddd32-98dd-45c7-8a91-5a9bf9ad7f2b",
   "metadata": {},
   "outputs": [
    {
     "name": "stdout",
     "output_type": "stream",
     "text": [
      "[ True  True  True  True  True  True  True False  True  True  True  True\n",
      "  True  True  True  True  True  True  True  True  True  True  True  True\n",
      "  True  True  True  True  True  True  True  True  True  True  True  True\n",
      "  True  True  True  True False  True  True  True  True  True  True  True\n",
      "  True  True  True  True  True False  True False  True  True  True  True\n",
      "  True  True  True  True  True  True  True False False  True  True  True\n",
      "  True  True False]\n"
     ]
    }
   ],
   "source": [
    "print(new_predY==new_testY)"
   ]
  },
  {
   "cell_type": "code",
   "execution_count": null,
   "id": "c6fcebe5-2725-4a67-baa3-352938d5acd5",
   "metadata": {},
   "outputs": [],
   "source": []
  },
  {
   "cell_type": "code",
   "execution_count": null,
   "id": "3e62661d-ba5f-4b8e-a66c-9a603eb9ec69",
   "metadata": {},
   "outputs": [],
   "source": []
  }
 ],
 "metadata": {
  "kernelspec": {
   "display_name": "Python 3",
   "language": "python",
   "name": "python3"
  },
  "language_info": {
   "codemirror_mode": {
    "name": "ipython",
    "version": 3
   },
   "file_extension": ".py",
   "mimetype": "text/x-python",
   "name": "python",
   "nbconvert_exporter": "python",
   "pygments_lexer": "ipython3",
   "version": "3.8.8"
  }
 },
 "nbformat": 4,
 "nbformat_minor": 5
}
